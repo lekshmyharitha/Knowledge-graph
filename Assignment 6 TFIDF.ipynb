{
 "cells": [
  {
   "cell_type": "markdown",
   "metadata": {},
   "source": [
    "LEKSHMY H O\n",
    "AM.EN.P2ARI20020\n",
    "ASSIGNMENT 6\n",
    "MTECH AI"
   ]
  },
  {
   "cell_type": "markdown",
   "metadata": {},
   "source": [
    "Write a basic TF-IDF program using 're' and 'operator' modules. Use the ouput of web content extractor as inputs to TF-IDF program. Use minimum 5 files of considerable size as inputs with note less than 100 unique words. The ouput should be the TF-IDF value of each word. Please see the sample program below."
   ]
  },
  {
   "cell_type": "code",
   "execution_count": null,
   "metadata": {},
   "outputs": [],
   "source": [
    "## EXTRACTING TEXT FROM HTML"
   ]
  },
  {
   "cell_type": "code",
   "execution_count": 1,
   "metadata": {},
   "outputs": [],
   "source": [
    "from bs4 import BeautifulSoup\n",
    "from bs4.element import Comment\n",
    "import urllib.request\n",
    "\n",
    "def tag_visible(element):\n",
    "    if element.parent.name in ['style', 'script', 'head', 'title', 'meta', '[document]']:\n",
    "        return False\n",
    "    if isinstance(element, Comment):\n",
    "        return False\n",
    "    return True\n",
    "\n",
    "\n",
    "def text_from_html(body):\n",
    "    soup = BeautifulSoup(body, 'html.parser')\n",
    "    texts = soup.findAll(text=True)\n",
    "    visible_texts = filter(tag_visible, texts)  \n",
    "    return u\" \".join(t.strip() for t in visible_texts)"
   ]
  },
  {
   "cell_type": "code",
   "execution_count": 2,
   "metadata": {},
   "outputs": [],
   "source": [
    "top_news_url = [\"https://www.foxnews.com/\",\n",
    "                \"https://www.bbc.com/\",\n",
    "                \"https://www.nytimes.com/section/world\",\n",
    "                \"https://abcnews.go.com/\",\n",
    "                \"https://www.nbcnews.com/\"]"
   ]
  },
  {
   "cell_type": "code",
   "execution_count": 11,
   "metadata": {},
   "outputs": [
    {
     "name": "stdout",
     "output_type": "stream",
     "text": [
      "  Fox News U.S. Politics Media Opinion Business Entertainment Sports Lifestyle TV Fox Nation Listen More Expand / Collapse search Login Watch TV Menu Hot Topics Biden to push for another coronavirus stimulus Markets SP500 I:COMP I:DJI More Sponsored by Sponsored by  U.S. Crime Military Education Terror Immigration Economy Personal Freedoms Fox News Investigates World U.N. Conflicts Terrorism Disasters Global Economy Environment Religion Scandals Opinion  Politics Executive Senate House Judiciary Foreign Policy Polls Elections Entertainment Celebrity News Movies TV News Music News Style News Entertainment Video Business Personal Finance Economy Markets Watchlist Lifestyle Real Estate Tech Lifestyle Food + Drink Cars + Trucks Travel + Outdoors House + Home Fitness + Well-being Style + Beauty Family Faith Science Archaeology Air & Space Planet Earth Wild Nature Natural Science Dinosaurs Tech Security Innovation Drones Computers Video Games Military Tech Health Healthy Living Medical Research Mental Health Cancer Heart Health Children's Health TV Shows Personalities Watch Live Full Episodes  Show Clips News Clips About Contact Us Careers Fox Around the World Advertise With Us Media Relations Corporate Information Compliance Supplier Diversity Other Fox Nation Fox News Shop Fox News Go Fox News Radio Newsletters Alerts Podcasts Apps & Products Facebook Twitter Google+ Instagram RSS Email Fox News New Terms of Use Updated Privacy Policy Do Not Sell my Personal Information Closed Captioning Policy Help Contact Us This material may not be published, broadcast, rewritten, or redistributed. ©2020 FOX News Network, LLC. All rights reserved. Quotes displayed in real-time or delayed by at least 15 minutes. Market data provided by Factset . Powered and implemented by FactSet Digital Solutions . Legal Statement . Mutual Fund and ETF data provided by Refinitiv Lipper . Preview On Switch preview on/off On Now Exclusive Clips life liberty levin Owens: Democrats represent Black America 'like plantation owners represented slaves' fox report weekendjoe biden Rep. Fallon: Biden border 'crisis' product of 'horrible policy and terrible planning' fox news live Eric Shawn: A city wants to take care of migrants fox news live Mike Braun: ‘Lack of humanity’ at southern border was ‘shocking’ fox news live Eric Shawn: Kim Jong Un just doesn't learn justice with judge jeanine Trump rips Biden for not finishing border wall, says countries are losing respect for US sunday morning futures John Kennedy: Biden immigration policy is Obama administration on ‘methamphetamines’ Fox & Friends Dr. Marc Siegel: Potential Wuhan lab COVID-19 origins need to be taken ‘seriously,’ ‘not dismissed’ sunday morning futures Sen. Ted Cruz: Border is ‘worst I’ve ever seen, a full-blown crisis’ sunday morning futures Eric Trump: The Biden administration turned Trump immigration policy into ‘absolute junk' Show More CALLING KAMALA Politics Harris reportedly frustrated with ongoing VP mansion renovations as border crisis gets worse Texas Democrat shares new photos of migrant kids being held at the southern border Biden admin asks for government volunteers at the border amid crisis WHO'S IN CHARGE? Politics Apparently, it's no longer the Biden administration... Chris Wallace rips Psaki for not allowing reporters at the southern border 'THEY'RE THIEVES!' U.S. More DC teens arrested as graphic video of deadly Uber Eats carjacking surfaces DC's mayor under fire for staying silent on brutal carjacking murder  BIG SHOT? Politics Fauci credits himself for early move on vaccines, called out online NOT SO NEUTRAL U.S. School's move to fire Christian professor over pronouns backfires Preview On Switch preview on/off On Now Exclusive Clips life liberty levin Owens: Democrats represent Black America 'like plantation owners represented slaves' fox report weekendjoe biden Rep. Fallon: Biden border 'crisis' product of 'horrible policy and terrible planning' fox news live Eric Shawn: A city wants to take care of migrants fox news live Mike Braun: ‘Lack of humanity’ at southern border was ‘shocking’ fox news live Eric Shawn: Kim Jong Un just doesn't learn justice with judge jeanine Trump rips Biden for not finishing border wall, says countries are losing respect for US sunday morning futures John Kennedy: Biden immigration policy is Obama administration on ‘methamphetamines’ Fox & Friends Dr. Marc Siegel: Potential Wuhan lab COVID-19 origins need to be taken ‘seriously,’ ‘not dismissed’ sunday morning futures Sen. Ted Cruz: Border is ‘worst I’ve ever seen, a full-blown crisis’ sunday morning futures Eric Trump: The Biden administration turned Trump immigration policy into ‘absolute junk' Show More U.S. How to watch the Derek Chauvin trial U.S. Antifa 'armed' rioters descend on Oregon State Capitol Media Ex-CNN’er torches network for having ‘thumb’ on the scale  U.S. Miami violence continues after 12-year-old boy abducted, sexually assaulted and shot Breaking News Economy Ever Given, container ship stuck in Suez Canal, 'partially refloated'  Economy Larry Kudlow warns Biden tax plan would ignite ‘class warfare’ Politics DC mayor deletes preventing auto theft tweet after igniting outrage Health WHO’s inquiry into COVID-19 outbreak ‘highly chaperoned,’ says ex-NSC official Energy Indonesia oil refinery: 5 injured, hundreds evacuated after blaze Sports UCLA edges Alabama in thrilling Sweet 16 matchup, back in Elite Eight for first time since 2008 UNDER PRESSURE Sports First they were knocked out of the NCAA tournament, then it got worse Media White House reporter Hunter Walker accuses Pakistani immigrant's son of pushing 'far-right narratives' for DC murder concern U.S. Man arrested after allegedly shooting at Everglades National Park rangers Politics Warnock declines to oppose Georgia boycotts over new election law U.S. What to know about George Floyd autopsies, criminal complaint, jurors and more U.S. Former reality TV star killed in Virginia Beach shooting U.S. 'Road rage incident' leaves mother of 6 dead; NC sheriff offers reward Politics Duckworth to speak on GWU alumni panel after saying ‘we should listen to the argument’ for taking down statues  U.S. Nashville, TN mayor declares state of emergency in response to deadly flooding Politics Biden administration working on vaccine passports to pave way for travel  Sports Trevor Lawrence no fan of Lil Nas X's 'Satan shoes' PIERS MORGAN UNLOADS Media Piers Morgan absolutely unloads on Meghan and Harry Entertainment Grammy Award-winning band member arrested on child abuse charges U.S. Oklahoma pastor's wife, accomplice arrested in minister's shooting death Entertainment 'You can almost cancel everything': Actor breaks down the problems with cancel culture Entertainment Gwen Stefani shares her secret to looking young at 51 Entertainment William Shatner says it's 'too painful' to watch 'Star Trek' Business Leaders FOX Business colleague dies at 52  Royal family 'snubs Meghan Markle after she offers to help palace search for \"diversity czar\"' Politics Fox Nation digs into 'The Curse of Tippecanoe' as part of look back at Reagan assassination attempt Politics Political cartoon of the day: Mixed messages Money Why older Americans with student loan debt might want to consider refinancing  Fox Nation Exclusive Premiere Tucker Carlson Today 00 Days : 00 Hrs : 00 Min : 00 Sec Fox Nation Join Now COMING SOON Unfiltered, unafraid, and unstoppable interviews & discussions, starring Tucker Carlson. Show More Editor's Picks Why Oprah Winfrey probably didn’t ask Meghan Markle, Prince Harry about Prince Andrew: royal author TikTok’s goblin-inspired fashion trend gains mainstream attention  Cuomo aides receive subpoenas in sexual-harassment investigation Convicted child killer on the run for nearly 50 years may be captured soon, authorities say Your Money Is paying off your mortgage early always the best financial decision? Show More Opinion Biden, Dems' spending spree – country's future depends on conservatives doing this By Colin Reed Biden worsens border mess – here's how adversaries view fragile admin's self-induced crisis By James Jay Carafano Is an MS vaccine next? Why it would be a game-changer for me and millions of others By Janice Dean Show More Get the best of Fox News delivered to your inbox daily Enter email address We've added you to our mailing list. Close Your email address was not valid. Close Features & Faces Get ready for TikTok’s \"‘goblincore’ trend Bizarre staircase has supernatural origins Why Oprah didn’t ask about Prince Andrew ‘40s child star talks working with Judy Garland Cyrus says she's recovering from 'rager' Comedian talks cancel culture New Buick made WHERE? GM’S new $9,000 PICKUP Restaurant gets $1G TIP for surviving Shoelaces SMELL like bacon? Star: It was 'DISRESPECTFUL'  Legendary author dead at 104 Is model pregnant? Markle's half-sister says Duchess needs counseling Actress gives birth  New NON-DIET may help reduce cravings Ford's missing TURBINE truck found Previous Next Business View All Energy Indonesia oil refinery: 5 injured, hundreds evacuated after blaze Economy Ever Given, container ship stuck in Suez Canal, 'partially refloated' Economy Larry Kudlow warns Biden tax plan would ignite ‘class warfare’ Politics Biden administration working with industry to develop COVID-19 'passports' as vaccinations progress Lifestyle Moats, trampolines and crazy pools: The wildest requests pro landscapers have fielded Coronavirus View All Politics Fauci says COVID-19 vaccine push could be 'best decision' he's made Health WHO’s inquiry into COVID-19 outbreak ‘highly chaperoned,’ says ex-NSC official Health Fauci warns children should continue wearing masks while playing Politics Biden to push another coronavirus recovery bill on top of $1.9T package: Psaki Health New York launches digital vaccination, testing passport app Fox News Flash View All Politics Graham: 'Sick' for Biden to 'play the race card' on Georgia election law, filibuster Politics Candace Owens: Democrats gaslighting with 'Jim Crow' election law claims; trying to 'import' new voters Politics Trump slams Biden immigration policies: ‘There’s nothing, there’s no leadership’ Politics Trump rips Biden for halting border wall construction, says countries are losing respect for US U.S.  Former Acting ICE Director: Biden 'insulted' Border Patrol agents during press conference Politics View All Politics Fauci says COVID-19 vaccine push could be 'best decision' he's made Politics DC mayor deletes preventing auto theft tweet after igniting outrage Politics Kamala Harris MIA during border crisis: Where is she? Politics White House lists ‘Biden-Harris administration’ on official website Politics Duckworth to speak on GWU alumni panel after saying ‘we should listen to the argument’ for taking down statues U.S. View All U.S. Miami violence continues after 12-year-old boy abducted, sexually assaulted and shot  U.S. Man arrested after allegedly shooting at Everglades National Park rangers U.S. Antifa 'armed' rioters descend on Oregon State Capitol U.S. Nashville, TN mayor declares state of emergency in response to deadly flooding U.S. Ohio Christian college professor who rejected transgender student's pronouns can sue university, court rules World View All World Missouri mom dies after falling from resort balcony in Cancun World Suicide bomb hits Palm Sunday Mass in Indonesia, 14 wounded World Burma forces kill dozens in deadliest day since coup World North Korea snaps back at Biden over criticism of missile launches World 9-year-old Mexican girl drowns crossing Rio Grande into US America Together View All U.S. Slain Boulder officer Eric Talley: Tunnel to Towers to pay family's mortgage Food & Drink California ice cream parlor receives $1G tip: 'She was just happy that we are still open' U.S. Celebrity men's groomer Jason Schneidman has big plans to help people battling addiction Food & Drink Dunkin' customer in Ohio buys $4G in gift cards, uses them to buy food, coffee for every subsequent patron Lifestyle Virginia restaurant server receives generous tips that help her visit dying brother Opinion View All Opinion Colin Reed: Biden, Dems' spending spree – country's future depends on conservatives doing this Opinion Victor Davis Hanson: China's contempt for US – they seek global hegemony and this is how we're helping them Opinion James Carafano: Biden worsens border mess – here's how adversaries view fragile admin's self-induced crisis Opinion Janice Dean: Is an MS vaccine next? Why it would be a game-changer for me and millions of others Opinion Tucker Carlson: US military has gone full woke, waging war on those who disagree with them What to Watch View All 11:57 sunday morning futures Sen. Ted Cruz: Border is ‘worst I’ve ever seen, a full-blown crisis’ 12:35 fox news sunday Jen Psaki: Border is ‘closed,’ CBP turning away adult migrants  06:50 Fox & Friends New York City ends qualified immunity for police 03:09 America's Newsroom Rep. Joyce introduces ‘GRINCH Act’ to protect books from cancel culture 04:13 Fox & Friends China, Russia 'violating' UN sanctions, helping N. Korea: Gen. Keane Family View All Entertainment Hilary Duff gives birth to third child, her second with husband Matthew Koma Lifestyle Virginia restaurant server receives generous tips that help her visit dying brother Entertainment Jessica Alba explains why she stopped acting at the ‘top of my career’ U.S. Florida baby born on 3/21 at 3:21 in 321 area code  Entertainment Heidi Klum and daughter Leni, 16, are twins in ‘all natural’ makeup-free selfies Entertainment View All Entertainment Lady Gaga shares birthday post, shouts out her boyfriend and dogs: 'All I need' Entertainment Eddie Murphy receives Hall of Fame Award at 52nd NAACP Image Awards Entertainment  Michael Douglas says he 'used to blame' memory problems on smoking pot Entertainment Sharon Stone recalls near death experience after 2001 stroke: 'It's so profound' Entertainment  William Shatner explains why he's never watched 'Star Trek' Sports View All Sports USC shuts down Oregon 82-68 to end 20-year Elite Eight wait Sports Texas slows Maryland, gets to Elite Eight with 64-61 win Sports McCollum, Lillard lead Blazers past Raptors 122-117 Sports UCLA edges Alabama in thrilling Sweet 16 matchup, back in Elite Eight for first time since 2008 Sports Louisville beats Oregon 60-42, heads to women's Elite Eight House and Home View All Food & Drink Miller Lite now selling bar-scented candles Great Outdoors Swan terrorizes homeowners by constantly knocking on front doors: 'Extremely irritating' Real Estate Luxury real estate contracts in Manhattan surpassing pre-pandemic levels Real Estate Woman celebrates year of unfinished construction in front of New Orleans home Real Estate Woman rocks TikTok with tour of bomb shelter found in bedroom Personal Finance View All Personal Finance Most Americans who negotiate a medical bill see it reduce or drop entirely: survey Sponsored by Credible How to help your adult kids build their own credit Sponsored by Credible If you want to buy land, consider these factors Sponsored by Credible Today's mortgage refinance rates stay historically low overall | March 26, 2021  Sponsored by Credible Today's mortgage rates continue to hover at historical lows | March 26, 2021 Celebrity News View All Entertainment Eddie Murphy receives Hall of Fame Award at 52nd NAACP Image Awards Entertainment Michael Douglas says he 'used to blame' memory problems on smoking pot Entertainment Sharon Stone recalls near death experience after 2001 stroke: 'It's so profound' Sports Naomi Osaka condemns hate crimes against Asian Americans in scathing tweet Entertainment William Shatner explains why he's never watched 'Star Trek' Technology View All Media Ex-CNN’er torches network for having ‘thumb’ on the scale Media White House reporter accuses Pakistani immigrant's son of pushing 'far-right narratives' for DC murder concern U.S. US Virgin Islands search for missing woman continues, police aware of Siren Song whereabouts Media CNN's Chris Cuomo forges ahead in 'Hack' tournament amid scandal, Jeffrey Toobin fails to pull out a victory Science NASA's Orion capsule begins new water drop tests Faith & Values View All Entertainment  Carrie Underwood's gospel album 'My Savior' includes songs she used to sing in church Lifestyle Virginia restaurant server receives generous tips that help her visit dying brother Media  Finding his religion: How Jimmy Carter's faith and influence spread beyond American borders U.S. Florida baby born on 3/21 at 3:21 in 321 area code Media Shannon Bream's 'Women of the Bible Speak': Stories from the past teach lessons for today Autos View All Cars + Trucks First GMC HUMMER EV and Ford Bronco auctioned for millions Cars + Trucks HOW TO WIN $25,000 FOR FREE WITH NASCAR'S DIRT RACE AT BRISTOL Entertainment Sharon Osbourne exits 'The Talk' Cars + Trucks NASCAR's Kyle Larson: 'There's always going to be doubters' Cars + Trucks VW’s retro ID.Buzz electric minivan launching in 2023 Travel + Outdoors View All U.S. US Virgin Islands search for missing woman continues, police aware of Siren Song whereabouts World Navy sending team to Suez Canal to help dig out massive ship blocking passage Great Outdoors Runaway steer in Rhode Island, on the loose for months, finally recaptured after fleeing slaughterhouse U.S. Washington hiker stabs mountain biker over trail dispute, sheriff says; attorney argues self-defense Politics Wyoming senator pushes bill to let states regulate grizzly populations after Haaland's flub at hearing Food + Drink View All Food & Drink Denny's workers get into fist fight over which table would get chicken fingers: report Food & Drink California ice cream parlor receives $1G tip: 'She was just happy that we are still open' Food & Drink Peeps, 7-Eleven launch marshmallow-flavored latte for spring Food & Drink Oscar Mayer makes bacon-scented shoelaces, will give them away to fans Politics Arizona Gov. Ducey lifts COVID-19 rules after state hits 3M vaccinations Fitness + Well-being View All Lifestyle Intuitive eating: The non-diet that lets you eat anything you want Lifestyle Hero dog protects owner, blocks road when woman suffered sudden seizure: 'A very good friend' Lifestyle Nose-only COVID-19 masks invented by Mexican researchers for use at restaurants Lifestyle Reddit users name the things they loved as children, but currently hate Lifestyle Americans identify age they'll 'peak' – and it's later in life than you'd guess, poll finds Style + Beauty View All Lifestyle TikTok’s goblin-inspired fashion trend gains mainstream attention  Food & Drink Oscar Mayer makes bacon-scented shoelaces, will give them away to fans Lifestyle Oklahoma Goodwill employee finds $42G hidden in donated sweaters, helps return money to owner Entertainment Lindsey Vonn recalls being bullied for 'muscular' figure, shares how she's become 'a lot leaner' Food & Drink Whiskey brand puts out casting call for hand model, will offer $100G for perfect 'spokesfist' Health View All Health WHO’s inquiry into COVID-19 outbreak ‘highly chaperoned,’ says ex-NSC official Health Fauci warns children should continue wearing masks while playing Health New York launches digital vaccination, testing passport app Health Poor sleep, burnout may up coronavirus risk, study claims Health Young adults reporting largest uptick in anxiety, depression symptoms, CDC finds Your Money View All Sponsored by Credible How to help your adult kids build their own credit  Sponsored by Credible If you want to buy land, consider these factors Sponsored by Credible Today's mortgage refinance rates stay historically low overall | March 26, 2021 Sponsored by Credible Today's mortgage rates continue to hover at historical lows | March 26, 2021 Sponsored by Credible Why older Americans with student loan debt might want to consider refinancing Good News View All U.S. Celebrity men's groomer Jason Schneidman has big plans to help people battling addiction Food & Drink Dunkin' customer in Ohio buys $4G in gift cards, uses them to buy food, coffee for every subsequent patron Lifestyle Oklahoma Goodwill employee finds $42G hidden in donated sweaters, helps return money to owner Entertainment Actor Jon Cryer helping LA homeless with tiny homes project Health Iowa woman, 104, gets COVID-19 vaccine decades after surviving 1918 flu pandemic Full Episodes View All 40:06 Video Life, Liberty & Levin - Sunday, March 28 40:21 The Next Revolution w/ Steve Hilton - Sunday, March 28 47:46 Fox News Sunday - Sunday, March 28 41:19 #MediaBuzz - Sunday, March 28 41:19 Sunday Morning Futures w/ Maria Bartiromo - Sunday, March 28 Crime View All U.S. Miami violence continues after 12-year-old boy abducted, sexually assaulted and shot U.S. Man arrested after allegedly shooting at Everglades National Park rangers U.S. Antifa 'armed' rioters descend on Oregon State Capitol Media White House reporter accuses Pakistani immigrant's son of pushing 'far-right narratives' for DC murder concern U.S. DC police charge teen boys with carjacking as video resurfaces of botched teen girls' deadly carjacking U.S. Crime Military Education Terror Immigration Economy Personal Freedoms Fox News Investigates World U.N. Conflicts Terrorism Disasters Global Economy Environment Religion Scandals Opinion Politics Executive Senate House Judiciary Foreign Policy Polls Elections Entertainment Celebrity News Movies TV News Music News Style News Entertainment Video  Business Personal Finance Economy Markets Watchlist Lifestyle Real Estate Tech  Lifestyle Food + Drink Cars + Trucks Travel + Outdoors House + Home Fitness + Well-being Style + Beauty Family Faith Science Archaeology Air & Space Planet Earth Wild Nature Natural Science Dinosaurs Tech Security Innovation Drones Computers Video Games Military Tech Health Coronavirus Healthy Living Medical Research Mental Health Cancer Heart Health Children's Health TV Shows Personalities Watch Live Full Episodes Show Clips News Clips About Contact Us Careers Fox Around the World Advertise With Us Media Relations Corporate Information Compliance Supplier Diversity Other Fox Nation Fox News Shop Fox News Go Fox News Radio Newsletters Alerts Podcasts Apps & Products Facebook Twitter Instagram Youtube Flipboard LinkedIn Slack RSS Newsletters Spotify iHeartRadio Fox News New Terms of Use Updated Privacy Policy  Do Not Sell my Personal Information Closed Captioning Policy Help Contact Us Accessibility Statement This material may not be published, broadcast, rewritten, or redistributed. ©2020 FOX News Network, LLC. All rights reserved. Quotes displayed in real-time or delayed by at least 15 minutes. Market data provided by Factset . Powered and implemented by FactSet Digital Solutions . Legal Statement . Mutual Fund and ETF data provided by Refinitiv Lipper .\n"
     ]
    },
    {
     "name": "stdout",
     "output_type": "stream",
     "text": [
      "                        Homepage Accessibility links Skip to content Accessibility Help  BBC Account Notifications  Home News Sport Weather iPlayer Sounds CBBC CBeebies Food Bitesize Arts Taster Local Three Menu  Search Search the BBC Search the BBC      BBC Homepage                    Stranded Suez container ship reported freed   The Ever Given, which was blocking one of the world's busiest trade routes, has been partially refloated.  Middle East   Stranded Suez container ship reported freed           Mexico revises Covid death toll up by 60%   Latin America   Mexico revises Covid death toll up by 60%           The 'fallen stars' from Myanmar's deadliest day   Asia   The 'fallen stars' from Myanmar's deadliest day           The battle over unconscious bias   Worklife   The battle over unconscious bias           India's indigenous matrilineal society   Travel   India's indigenous matrilineal society                     News            Dozens dead after militant attack in Mozambique   Witnesses say civilians with boats are evacuating survivors of a violent raid on the town of Palma.  Africa   Dozens dead after militant attack in Mozambique           Massive fire rages at Indonesian oil refinery   Several have been injured and hundreds evacuated to safety from the blaze in West Java province.  Asia   Massive fire rages at Indonesian oil refinery            The migrants risking it all to cross the Darien Gap   It takes up to 20 days, and can be deadly – but everyday hundreds try to cross the border between Panama and Colombia.  Latin America & Caribbean   The migrants risking it all to cross the Darien Gap         Sport            A prelude to what could be a classic   Mercedes look to have a proper fight on their hands in 2021. Roll on, Emilia Romagna...  Formula 1   A prelude to what could be a classic           'Curran will get better and better'   All-rounder Sam Curran will get \"better and better\", according to stand-in England captain Jos Buttler.  Cricket   'Curran will get better and better'           Kane inspires England to win over Albania   Harry Kane scores one and makes another as England beat Albania to make it two wins out of two in their World Cup 2022 qualifying campaign.  Football   Kane inspires England to win over Albania             Mumbai Weather  Edit                   Mon  35°C  24°C       Tue  35°C  23°C       Wed  33°C  23°C       Thu  33°C  23°C                               Visit Reel             The most amazing videos from the BBC              Two friends' reflections on lust                 Four Japanese rules to live past 100                 The physics that suggests we have no free will               India News            The Netflix show putting the spotlight on menopause   The new Netflix show Bombay Begums puts the spotlight on menopause, but why aren't we talking about it?  India   The Netflix show putting the spotlight on menopause           'I have cancer in my 30s, but can't get a Covid jab'   Cancer patients who are under the age of 45 are struggling to get Covid jabs in India.  India   'I have cancer in my 30s, but can't get a Covid jab'           The 'daughter of Bengal' taking on India's PM   West Bengal Chief Minister Mamata Banerjee is locked in a fierce election battle with Mr Modi's party.  India   The 'daughter of Bengal' taking on India's PM           India win series despite Curran heroics   England are beaten in a thrilling one-day series decider against India, despite Sam Curran's heroic 95 not out.  Cricket   India win series despite Curran heroics         Editor’s Picks              Why ethical non-monogamy is on the rise   Multi-partner relationships are increasing – and could be going mainstream  Worklife   Why ethical non-monogamy is on the rise           The Swedish chef who reinvented fire   His food is made solely through the use of fire, ash, soot and smoke  Travel   The Swedish chef who reinvented fire           The mystery of our expanding Universe   Astronomers are close to working out the scale of our Universe  Future   The mystery of our expanding Universe           The woman changing how Africa is seen   The Oscar-winning designer Ruth E Carter on Afrofuturism and Coming 2 America  Culture   The woman changing how Africa is seen           George Floyd: When does Derek Chauvin's trial start?   A US police officer is accused of killing a black man last year. Here's why the world is watching  US   George Floyd: When does Derek Chauvin's trial start?           The real reason humans are the dominant species   How demand for energy has been central to the development of humanity  Science & Environment   The real reason humans are the dominant species           'My pet has helped me so much during the pandemic'   Research has shown pets can have a huge benefit to our mental health - especially this past year  Newsbeat   'My pet has helped me so much during the pandemic'        Latest Business News     1  The Suez Canal blockage in numbers      2  China's answer to YouTube slumps on market debut      3  Liberty Steel bailout plea turned down      4  Lorry drivers 'must expect Covid test to enter UK'      5  'Our customers are worried about the Suez blockage'                 Future Planet                 Solutions for a sustainable world              The people releasing cats in Australia                 How cleaning rivers cuts CO2 emissions                 The human right that benefits nature                  Dream Teams         Reel   The island utopia that became a social experiment    The island utopia that became a social experiment           ADVERTISEMENT        Technology of Business         Business   Learning to code 'will seriously change your life'    Learning to code 'will seriously change your life'              Featured video              The pandemic's 'dramatic' effect on cancer care   Experts predict a rise in serious cancers due to deferred screenings and treatments.  US & Canada   The pandemic's 'dramatic' effect on cancer care       Recommended    Most Watched    Latest              The pandemic's 'dramatic' effect on cancer...   US & Canada   The pandemic's 'dramatic' effect on cancer care            The photograph that united a family   Africa   The photograph that united a family            Myanmar's deadliest day since its coup   Asia   Myanmar's deadliest day since its coup            'Astronauts aren't just men - we're...   Leicester   'Astronauts aren't just men - we're astronauts too'            Covid: 'We need a memorial to remember'   UK   Covid: 'We need a memorial to remember'            Boris Johnson struggles in interview   UK   Boris Johnson struggles in interview            Ready for the total solar eclipse?   US & Canada   Ready for the total solar eclipse?            Koalas 'face extinction' in parts of...   Australia   Koalas 'face extinction' in parts of Australia            Video 'shows Mosul mosque's destruction'   Middle East   Video 'shows Mosul mosque's destruction'            Indonesia's female 'devil wheel' riders   Asia   Indonesia's female 'devil wheel' riders            From the 'world's worst sniffer dog' to NHS...   London   From the 'world's worst sniffer dog' to NHS hero            ICYMI: Hotdogs, hungry horses and orange...   World   ICYMI: Hotdogs, hungry horses and orange skies            Congolese VFX artist behind Hollywood...   Africa   Congolese VFX artist behind Hollywood blockbusters               BBC World Service      On Air:  Newsday          More around the BBC              Josh O'Connor: Romeo role 'my greatest career experience'   The Crown star's stage role in Romeo and Juliet fizzled out - but was reborn by making a TV film.  Entertainment & Arts   Josh O'Connor: Romeo role 'my greatest career experience'           AI's secret army of ghost workers want to be seen   Technology   AI's secret army of ghost workers want to be seen           Green Homes Grant scheme to insulate houses axed   Science & Environment   Green Homes Grant scheme to insulate houses axed           'It is so easy to choose what voluntary work to do'   Business   'It is so easy to choose what voluntary work to do'           Call for unity as EU leaders meet for vaccine summit   Europe   Call for unity as EU leaders meet for vaccine summit           EU and UK try to end row with 'win-win' on vaccines   Europe   EU and UK try to end row with 'win-win' on vaccines           An unexpected history of the Royal Albert Hall   London   An unexpected history of the Royal Albert Hall        From Our Correspondents        Key takeaways from Biden's first news conference By Anthony Zurcher          Facial recognition beats the Covid-mask challenge By James Clayton          Nasa sets out flight plan for Martian helicopter By Jonathan Amos          UK PM's vaccines comments set tongues wagging By Laura Kuenssberg          The year of living pandemically By Douglas Fraser          Machine finds tantalising hints of new physics By Pallab Ghosh          Common cold 'can boot Covid out of cells' By James Gallagher          YouTuber quits app after associate accused of rape By Cristina Criddle                 Dream Teams          The daring love story that changed photography forever   Reel   The daring love story that changed photography forever            Technology of Business          Making honey without bees and milk without cows   Business   Making honey without bees and milk without cows              World in pictures              Africa's top shots: Love balloons and uber-Barca fans   Africa   Africa's top shots: Love balloons and uber-Barca fans            'I want it to be normal for women to take photos'   Africa   'I want it to be normal for women to take photos'            In pictures: Efforts to shift huge ship from canal   Middle East   In pictures: Efforts to shift huge ship from canal            In pictures: UK marks lockdown anniversary   In Pictures   In pictures: UK marks lockdown anniversary            Covid Through the Lens 'brings the outside in'   Cumbria   Covid Through the Lens 'brings the outside in'         BBC in other languages         Hindi    स्वेज़ नहर में फंसे कंटेनर जहाज़ को निकाला गया: रिपोर्ट      Urdu    کورونا: پاکستان کے زیادہ متاثرہ شہروں میں شادی کی تقاریب، سماجی اجتماعات پر پابندی      Tamil    “இங்க மீன் இருந்தா ஏன் இலங்கை கடலுக்கு போறோம்?” - உயிரை பணயம் வைக்கும் தமிழக மீனவர்கள்      Marathi    म्यानमार- आंदोलनकर्त्यांच्या मृत्यूनंतर लष्करी अधिकाऱ्यांनी केली पार्टी        More Languages      Arabic  عربي      Azeri  AZƏRBAYCAN      Bangla  বাংলা      Burmese  မြန်မာ      Chinese  中文网      French  AFRIQUE      Hausa  HAUSA      Hindi  हिन्दी      Indonesian  INDONESIA      Japanese  日本語      Kinyarwanda  GAHUZA      Kirundi  KIRUNDI      Kyrgyz  Кыргыз      Marathi  मराठी      Nepali  नेपाली      Pashto  پښتو      Persian  فارسی      Portuguese  BRASIL      Russian  НА РУССКОМ      Sinhala  සිංහල      Somali  SOMALI      Spanish  MUNDO      Swahili  SWAHILI      Tamil  தமிழ்      Turkish  TÜRKÇE      Ukrainian  УКРАЇНСЬКA      Urdu  اردو      Uzbek  O'ZBEK      Vietnamese  TIẾNG VIỆT                Explore the BBC Home News Sport Weather iPlayer Sounds CBBC CBeebies Food Bitesize Arts Taster Local Three Terms of Use About the BBC Privacy Policy Cookies Accessibility Help Parental Guidance Contact the BBC Get Personalised Newsletters Copyright © 2021 BBC. The BBC is not responsible for the content of external sites. Read about our approach to external linking.       \n"
     ]
    },
    {
     "name": "stdout",
     "output_type": "stream",
     "text": [
      "   Sections SEARCH Skip to content Skip to site index World News Log in Today’s Paper Advertisement Continue reading the main story Supported by Continue reading the main story World News Africa Americas Asia Australia Canada Europe Middle East Highlights Photo Credit The New York Times Inside Myanmar’s Army: ‘They See Protesters as Criminals’ Four officers spoke about life in the feared Tatmadaw, which has turned its guns on civilians again. “The Tatmadaw is the only world” for most soldiers, one said. By  Hannah Beech Photo Credit Victor Moriyama for The New York Times His Plane Crashed in the Amazon. Then Came the Hard Part. A Brazilian pilot working for wildcat miners escaped death when his plane went down in a remote area. He walked through the jungle for 36 days before being rescued. By  Manuela Andreoni Photo Credit John Wessels/Agence France-Presse — Getty Images As Militants Seize Mozambique Gas Hub, a Dash for Safety Turns Deadly An agonizing choice for nearly 200 people holed up in a hotel as gunmen roamed unchecked: Wait overnight for rescue? Or make a run for it? By  Christina Goldbaum , Eric Schmitt and Declan Walsh Photo Credit Evgeny Kozyrev/Reuters Russia Trumpets Vaccine Exports, While Quietly Importing Doses Russia has held up the Sputnik vaccine as a triumph of its scientists. But the country’s inoculation program still relies on cross-border trade. By  Andrew E. Kramer Photo Credit A Collapse Foretold: How Brazil’s Covid-19 Outbreak Overwhelmed Hospitals The virus has killed more than 300,000 people in Brazil, its spread aided by a highly contagious variant, political infighting and distrust of science. By  Ernesto Londoño , Letícia Casado and Mauricio Lima Photo Credit Sima Diab for The New York Times ‘A Very Big Problem.’ Giant Ship in the Suez Remains Stuck. A small Egyptian village has a front-row seat to the unfolding effort to dislodge the container ship that ran aground in the canal, holding up $10 billion in global trade every day. By  Vivian Yee Photo Credit Dozens Are Gunned Down in ‘Day of Shame’ for Myanmar A rights group said it had documented 90 killings by the security forces on Saturday. It appeared to be the bloodiest day since protests against the military coup began. By  Richard C. Paddock Photo Credit Federico Rios for The New York Times Children Trapped by Colombia’s War, Five Years After Peace Deal Despite a 2016 peace deal with the FARC, Colombia’s long internal conflict continues. Seldom has that been as evident as this month, when the government bombed a rebel camp full of young people. By  Julie Turkewitz , Sofía Villamil and Federico Rios Photo Credit Rebecca Conway for The New York Times India’s News Upstarts Challenged Modi. New Rules Could Tame Them. Online portals have practiced aggressive journalism in a mostly compliant media landscape. But trolls and the government could now be empowered to stop them. By  Mujib Mashal and Hari Kumar Photo Credit Office of the Iranian Presidency, via Associated Press China, With $400 Billion Iran Deal, Could Deepen Influence in Mideast The countries signed a sweeping pact on Saturday that calls for heavy Chinese investments in Iran over 25 years in exchange for oil — a step that could ease Iran’s international isolation. By  Farnaz Fassihi and Steven Lee Myers Photo Credit Ariel Schalit/Associated Press Israel’s Shadow War With Iran Moves Out to Sea Israel and Iran have fought a clandestine war across the Middle East for years, mainly by land and air. Now ships are under attack in the Mediterranean and Red Seas. By  Patrick Kingsley , Ronen Bergman , Farnaz Fassihi and Eric Schmitt Photo Credit Dozens Are Gunned Down in ‘Day of Shame’ for Myanmar A rights group said it had documented 90 killings by the security forces on Saturday. It appeared to be the bloodiest day since protests against the military coup began. By  Richard C. Paddock Photo Credit Rebecca Conway for The New York Times India’s News Upstarts Challenged Modi. New Rules Could Tame Them. Online portals have practiced aggressive journalism in a mostly compliant media landscape. But trolls and the government could now be empowered to stop them. By  Mujib Mashal and Hari Kumar Photo Credit Trains Collide in Egypt, Killing at Least 32 Officials said emergency brakes were activated on one train, which was hit by another behind it. The country’s railways have been plagued by poor maintenance and mismanagement. By  Mona El-Naggar Advertisement Continue reading the main story Read The Times in Spanish More in Read The Times in Spanish › Photo Credit Dieu Nalio Chery/Associated Press El presidente de Haití no tiene apoyo popular pero quiere reformar la Constitución El país se enfrenta a una crisis prolongada y se prepara para la mayor reorganización del gobierno que se haya visto en décadas con un referéndum constitucional y elecciones nacionales previstas para este año. By  Maria Abi-Habib Photo Credit Smita Sharma para The New York Times La francotiradora de 89 años que se convirtió en ícono feminista en India Chandro Tomar podrá lucir como una abuela india tradicional, pero no lo es: se cree que es la francotiradora profesional con mayor edad en el mundo y tiene decenas de medallas para demostrarlo. By  Shalini Venugopal Bhagat Photo Credit Joao Silva/The New York Times En su afán por vacunar a sus poblaciones, los países ricos se olvidaron del resto del mundo A pesar de las advertencias, los funcionarios estadounidenses y europeos no presionaron a las empresas farmacéuticas para garantizar el acceso de miles de millones de personas a las vacunas. Eso podría prolongar la pandemia. By  Selam Gebrekidan and Matt Apuzzo Photo Credit ‘¿Dónde estamos?’: la desilusión de las familias migrantes deportadas por sorpresa 149 migrantes llegaron a un puente en Texas escoltados por la Patrulla Fronteriza de Estados Unidos sin saber que iban camino a México. By  Maria Abi-Habib and Daniel Berehulak Photo Credit Dmitry Kostyukov para The New York Times La vacunación en Europa falló. Estas son las razones Mientras Estados Unidos hizo negocios con las compañías farmacéuticas, el bloque europeo fue más conservador y confió en el libre mercado. By  Matt Apuzzo , Selam Gebrekidan and Monika Pronczuk Dispatches More in Dispatches › Photo Credit Showkat Nanda for The New York Times Skiing in Himalayas Is ‘Like a Beautiful Dream,’ Despite Conflict and Coronavirus A Kashmir resort is welcoming the highest number of skiers in decades as Indians eager to get outdoors after lockdowns flock there even amid a simmering separatist movement and a security clampdown. By  Sameer Yasir and Showkat Nanda Photo Credit Sergey Ponomarev for The New York Times Arctic Dining: Think Frozen Sashimi, With a Side of Reindeer Blood Fishermen and reindeer herders in northern Siberia have long snacked on raw, frozen fish and meat. Shaved thin and often dipped in sauce, the dish is one of Russia’s hidden delicacies. By  Anton Troianovski Photo Credit Laura Boushnak for The New York Times The Scenic Isle Where the World’s Chaos Comes Home to Roost On Samos, islanders and asylum seekers bear the shared brunt of forces beyond their control — like chaos in the Middle East and the cold shoulder of the European Union. By  Jason Horowitz Photo Credit Getty Images Losing Track of Time in the Epicenter of China’s Coronavirus Outbreak People in Wuhan line up for groceries and medical checkups — and are skeptical of official reassurances. By  Chris Buckley Advertisement Continue reading the main story Latest Search Search Clear this text input The Ever Given is partially afloat and almost free, raising hopes traffic can soon resume. After five days of struggling to free the shipping vessel from where it ran aground in the Suez Canal, the vessel was partially refloated, according to officials. By Vivian Yee and Marc Santora Your Monday Briefing The Ever Given is partially freed. By Natasha Frost Oil Refinery in Indonesia Catches Fire, Prompting an Evacuation The state-owned oil company, Pertamina, which operates the refinery on Java island, suggested the fire may have been caused by a lightning strike. No deaths were reported. By Dera Menra Sijabat and Richard C. Paddock Trump’s former pandemic coordinator suggests restrained response may have cost hundreds of thousands of lives. In one of a series of interviews with U.S. medical officials tasked with the initial fight against the coronavirus, Dr. Deborah Birx said that the country’s loss of life could have been mitigated. By Sheryl Gay Stolberg Times Video Thousands Attend Experimental Indoor Concert in Barcelona A concert for 5,000 people was held at a Barcelona arena on Saturday, one of several planned in Europe to test how crowds can gather safely during the pandemic. Attendees were screened for the coronavirus before the show. By The Associated Press Six states are opening vaccination to all adults on Monday, with many residents eager for shots. “We must get every dose of vaccine into arms quickly,” said Gov. Laura Kelly of Kansas. By Giulia McDonnell Nieto del Rio Cases in Florida, a national Covid bellwether, are rising — especially among younger people. The state’s open invitation to enjoy spring break is a contributing factor. Another may be the exponential increase of infections of the more contagious B.1.1.7 variant. By Apoorva Mandavilli Your Monday Briefing Myanmar’s bloodiest day. By Carole Landry Testing, One, Two. Fans Flock to an Experimental Indoor Rock Concert. An organizer said this Barcelona event, one of several planned in Europe, was “a small but important step toward normality.” The listeners there basked in being part of an audience again. By Raphael Minder In the U.S., cases tick upward again as variants spread and states lift restrictions. The country averaged 61,545 cases last week, 11 percent more than the average two weeks earlier. By Apoorva Mandavilli Advertisement Continue reading the main story Advertisement Continue reading the main story Site Index Site Information Navigation © 2021  The New York Times Company NYTCo Contact Us Accessibility Work with us Advertise T Brand Studio Your Ad Choices Privacy Policy Terms of Service Terms of Sale Site Map Canada International Help Subscriptions             \n"
     ]
    },
    {
     "name": "stdout",
     "output_type": "stream",
     "text": [
      "                                                              Sections       Sections      Top Stories      Video      Live      U.S.      Politics      Coronavirus      International      Entertainment      Business      Technology      Lifestyle      Health      Virtual Reality      Weather      Tips      Sports      FiveThirtyEight        Shows       Shows      Good Morning America      World News Tonight      Nightline      20/20      This Week      The View      What Would You Do?        More       Privacy Policy      Your CA Privacy Rights      Children's Online Privacy Policy      Interest-Based Ads      Terms of Use      Do Not Sell My Info      Contact Us      ABC News Network | © 2021 ABC News Internet Ventures. All rights reserved.        Search                    Menu          Interest Successfully Added  We'll notify you here with news about  AlertTag   Turn on desktop notifications for breaking stories about interest?     Off  On             Notifications           Notifications For Interests:         Breaking      Interests See All           To save your interests across all devices Log In or Sign Up       Turn on desktop notifications for breaking news?     Off  On          Log In            Video    Live    Shows      Good Morning America  Good Morning America      World News Tonight  World News Tonight      Nightline  Nightline      20/20  20/20      This Week  This Week      The View  The View      What Would You Do?  What Would You Do?        Coronavirus          U.S.    Politics    International    Entertainment    Business    Technology    Lifestyle    Health    Virtual Reality    Weather    Tips    Sports    FiveThirtyEight       Privacy Policy Privacy Policy    Your CA Privacy Rights Your CA Privacy Rights    Children's Online Privacy Policy Children's Online Privacy Policy    Interest-Based Ads Interest-Based Ads    Terms of Use Terms of Use    Do Not Sell My Info Do Not Sell My Info    Contact Us Contact Us        ABC News Network | © 2021 ABC News Internet Ventures. All rights reserved.                                Bomb Squad disposes active Civil War cannonball        5 dead after helicopter crash in Alaskan glacier        Migrant families weigh next steps        4 found dead in separate Austrian, Swiss shootings        Infant found alive after Egypt building collapse        Funerals become scenes of Myanmar resistance        Average gas price jumps nickel per gallon to $2.94        City holds ceremonies for mass shooting victims        5-year-old boy allegedly threatened by police        San Francisco 'dope lawyer' to the stars dies        Auschwitz museum slams New Yorker Holocaust story        Ex-Trump adviser takes lead role in voting battle               KETV       100 new coronavirus cases at day care linked to UK variant outbreak: Officials   Students and staff were among the infected.  Mar 28     Miami Beach residents protest against chaos caused by spring breakers    Why a 4th COVID-19 wave in the US could look different               Play          ABC News Live     View all live streams »             STOCK PHOTO/Getty Images       Search continues for gunman who killed mom of 6 in road rage shooting on interstate    Mar 28           Top Stories      Bomb Squad disposes active Civil War cannonball        5 dead after helicopter crash in Alaskan glacier        Migrant families weigh next steps        4 found dead in separate Austrian, Swiss shootings        Infant found alive after Egypt building collapse        Funerals become scenes of Myanmar resistance        Average gas price jumps nickel per gallon to $2.94        City holds ceremonies for mass shooting victims        5-year-old boy allegedly threatened by police        San Francisco 'dope lawyer' to the stars dies        Auschwitz museum slams New Yorker Holocaust story        Ex-Trump adviser takes lead role in voting battle             Trending video         Play    ABCNews.com      1:58      Iceland residents gather to see volcano lava show          Sea otter backstrokes through snowstorm   0:45         Nashville home flooded with rainwater   0:18         99-year-old woman becomes oldest Russian combat jet simulator   0:46         Water seen pouring down off Uluru   1:25                Jeenah Moon/Reuters, FILE       Bar infamous for defying COVID-19 lockdown laws padlocked by sheriff's deputies   Mar 28     US auto dealerships are changing -- for the better, industry watchers say                The Associated Press       2 tugboats deploy to Egypt's Suez Canal as shippers avoid it   Mar 28             ABCNews.com       4:41      Jonathan Karl reveals details from meeting with Trump   Mar 24     New Trump recording revealed    Trump delivers remarks at CPAC                Politics               White House says it's working on access to migrant centers                   Kate Bedingfield calls migrant surge a 'cyclical issue'                   Biden receives high marks on COVID-19, lags on immigration, guns: POLL                   Why some Californians are trying to remove Gov. Gavin Newsom and how a recall works                   Trump claims Capitol rioters posed 'zero threat,' says some being persecuted                   Patrolling the Rio Grande for migrant crossings: Reporter's Notebook                   Cuomo's top aide reportedly subpoenaed in sexual misconduct probe                   The eviction moratorium is expiring. What will Biden do?                   Biden invites Russia, China to first global climate talks                   Along the southern border with GOP senators: Reporter's Notebook                More News      Myanmar pageant contender calls for aid        Serial killer on federal death row dies at Indiana hospital        'Tragic': 3 kids among 5 dead after Arkansas apartment fire        Police: Maryland man fatally shot 4 before killing self        Dallas street renamed for man killed by ex-cop in apartment        104-year-old: Vaccine 'only way' to end pandemic        Striking protesters clash with Bangladeshi police        Armenia premier will step down to allow election        Charlottesville mayor 'hits nerve' in poem on race        2 dead in separate Virginia Beach shootings              Courtesy Todd H. Snyder, Texas Department of Public Safety Officers Association       Man wanted in roadside ambush shooting of Texas trooper is found dead   Mar 28             Luiz Rampelotto/Pacific Press/LightRocket via Getty Images, FILE       New York state leaders agree to legalize recreational marijuana   Mar 28            More Top Stories      Average gas price jumps nickel per gallon to $2.94        City holds ceremonies for mass shooting victims        5-year-old boy allegedly threatened by police        San Francisco 'dope lawyer' to the stars dies        Auschwitz museum slams New Yorker Holocaust story        Ex-Trump adviser takes lead role in voting battle            What you need to know about coronavirus          3:24         COVID-19 one year later: Remembering an NYC hospital's darkest moments              3:00         Volunteers launch websites to help people access COVID-19 vaccines              1:51         How life in the US has changed a year into the pandemic              4:26         1 year into the pandemic, working moms are still trying juggle it all              2:32         500,000 deaths from COVID-19              3:00         Tracking the virus: 1 year of life with COVID-19              2:06         How the Pfizer and Moderna COVID-19 vaccines compare              4:01         How COVID-19 vaccines work              4:12         ICU nurse begs community to help 'save lives’              3:21         NYC doctors on COVID-19 this fall                     Brandon Bell-Pool via Getty Images, FILE      Bipartisanship key to successful voting reform: GOP Sen. Dan Sullivan   Mar 28              Don Emmert/AFP via Getty Images, FILE      How to contain the growing threat of fentanyl: OPINION   Mar 28               More News      Biden economic plan to focus 1st on infrastructure this week        4 cops eyed in woman's death in Mexican resort        Mexico leader hits beer, milk making in arid areas        Suicide bomb hits Palm Sunday Mass in Indonesia, 20 wounded        Breaking down USC's $1.1B in sex abuse settlements        FBI caregiver checks waived at migrant facilities        Town rallies to restore beheaded Mother Goose        More than 100 arrested in revived Belarus protests        CDC director warns against avoidable COVID surge        Reopening hurdles linger for schools despite funds               Mark Humphrey/AP      4 dead after heavy rain causes record flooding in Nashville   Mar 28     Severe weather brings major flash flooding, tornadoes South as threat moves east                         Erin Schaff/The New York Times via Redux, FILE      'Ground zero' of coronavirus pandemic, Elmhurst Hospital Center: 1 year later   Mar 28     UK variant hunters lead global race to stay ahead of COVID    COVID miracles: 3 patients' journeys to the brink of death and back                The Associated Press       Colorado massacre spurs calls for state action on gun deaths   Mar 28     2 in Seattle, San Francisco face anti-Asian hate charges    At dozens of rallies, protesters call for end to anti-Asian violence: Photos                ABC       Eye pain: A potential addition to the list of COVID-19 side effects   Mar 25                  Cincinnati Zoo/Kathy Newton      1 of America's oldest polar bears dies, outlived life expectancy by 10 years   Mar 28     Even geese got fat quickly during the pandemic                     Vern Fisher/AP      Beloved children's book author Beverly Cleary dead at 104   Mar 27              The Associated Press      Alabama Shakes drummer facing child abuse charges   Mar 27                     Adrees Latif/Reuters         Boulder shooting, Atlanta spa vigil, volcano eruption; The Week in Pictures   Mar 26     New photo released of Kristen Stewart as Princess Diana    Scarlett Johansson says she 'made a career' out of her controversies                Rich Fury/Getty Images       Demi Lovato drops new song, 'Dancing with the Devil,' about struggles with addiction   Mar 26     Jonas Brothers respond to rumors the band is breaking up    Carrie Underwood's new gospel album 'My Savior' is here                Kwaku Alston/ABC via Getty Images, FILE       Tracee Ellis Ross explains how 'Girlfriends' inspired her to launch hair care line   Mar 24           In Case You Missed It               'GMA' Deals & Steals for green living at home                   Peeps Rice Krispies treats are perfect for Easter                   Dad hugs daughters for 1st time in months after surviving COVID-19                   Surrogate cares for strangers' baby for 1 year due to coronavirus pandemic                   Free breadsticks and reasons for hope at Olive Garden                   Dan Levy, Kate McKinnon team up in fiery new Tostitos commercial                   Elton John gives gift to fans on his 74th birthday                   Kindergartner delivers 'hugging machine' to teacher fighting cancer                   Baby born March 21 at 3:21 p.m. in 321 area code                   Dog that waited 667 days to be adopted finally finds a new home                     Denver Post via Getty Images, FILE      Mom says child racked up $1,250 bill while playing online game   Mar 26     'Nobody' review: Bob Odenkirk aces his 1st role as action hero    Review: 'Six Minutes to Midnight' has terrific moments but could have been much more                FilmMagic via Getty Images, FILE       Britney Spears reveals the women who 'have truly inspired my life'   Mar 26     Bindi Irwin welcomes 1st child with husband Chandler Powell    'GMA' investigates products sold from social media ads                Christopher Polk/FilmMagic via Getty Images       Jay Leno apologizes for anti-Asian jokes over the years   Mar 24                  Chop Happy      Easy Passover meal from brunch to dessert   Mar 27     Easy, breezy recipes for spring    How to make these 3 easy Passover desserts                    San Francisco Chronicle via Getty Images, FILE          Beverly Cleary, Larry McMurtry, Jessica Walter and other notable people who died in 2021   Mar 26     Performing arts in the age of COVID-19    The man who saves forgotten cats in Fukushima's nuclear zone                Charly Triballeau/AFP via Getty Images          Photos show beauty of spring around the world in 2021   Mar 27     Protests in Myanmar, Atlanta shooting, New Yorkers remembered: This Week in Pictures    PHOTOS: Timeline of the global COVID-19 pandemic                      Back To Top     Sections    U.S.    International    Politics    Health    Entertainment    Sports    Money    Technology    Travel    Recipes      Shows    Good Morning America    World News Tonight with David Muir    Nightline    World News Now & America This Morning    This Week with George Stephanopoulos    20/20    What Would You Do?    ABC.com      Tools    Devices    Facebook    Twitter    YouTube    Press Releases    Site Map      About    Contact Us    Feedback    Share Tips with ABC News    Terms of Use    Privacy Policy    Do Not Sell My Info    Your California Privacy Rights    Children's Online Privacy Policy    Interest-Based Ads    Advertise with Us    About Nielsen Measurement    ABC News Store    Authors List    Image/Video Solicitation Rights Confirmation Terms        Terms of Use    Privacy Policy    Interest-Based Ads    Feedback       External links are provided for reference purposes. ABC News is not responsible for the content of external Internet sites.  Copyright © 2021 ABC News Internet Ventures. ABC News Network                          \n"
     ]
    },
    {
     "name": "stdout",
     "output_type": "stream",
     "text": [
      "IE 11 is not supported. For an optimal experience visit our site on another browser. Chauvin trial Plan Your Vaccine Covid-19 Politics U.S. News Opinion World Business Tech Share this — Search Sections CORONAVIRUS U.S. News Politics World Local Business Health Investigations Culture Matters Science Sports Tech & Media Decision 2020 Video Features Photos Weather Shopping Asian America NBCBLK NBC Latino NBC OUT TV Today MSNBC Nightly News Meet The Press Dateline Featured NBC NEWS NOW THINK BETTER NIGHTLY FILMS STAY TUNED SPECIAL FEATURES NEWSLETTERS PODCASTS More from NBC CNBC NBC.COM NBC LEARN Peacock Next Steps for Vets Parent Toolkit NBC Archives Follow NBC News Search Facebook Twitter Email SMS Print Whatsapp Reddit Pocket Flipboard Pinterest Linkedin Suez Canal Authority via AP BREAKING Suez Canal ship partially refloated after huge effort to unblock key global trade route The Ever Given \"has successfully floated after the ship responded to the pulling and towing maneuvers,\" the chairman of the Suez Canal Authority said in a statement early Monday. Leah Mills / Reuters After George Floyd The charges, the jury, the judge: Here's what to know about Derek Chauvin's trial George Floyd family members, leaders hold prayer service on eve of trial What the prosecution and the defense are expected to argue at Derek Chauvin's trial Peter DaSilva / for NBC News Tech News Restaurants are 'up against a wall,' using DoorDash to survive. The commissions are brutal. NBC News discovered 68 jurisdictions that imposed food delivery caps; DoorDash tacked on additional fees in 57 of them. Top stories Politics News 12 red states have refused Medicaid expansion. Biden's funding offer may turn the tide. 'A new world' He went to prison in the '80s. Now that he's free, smartphones and browsers present new struggles. Culture Matters Nike denies involvement with Lil Nas X 'Satan Shoes' containing human blood Weather At least four people dead, 130 rescued after Nashville floods More news World U.S. 'horrified' after Myanmar's bloodiest day since military coup Olympics U.S. men's soccer team misses Olympics again, longest drought in 50 years Bomb squad detonates live Civil War cannonball found in Maryland New York on the verge of legalizing recreational cannabis After Oklahoma pastor's murder, wife and alleged accomplice in love triangle arrested 'SNL' mocks spring break amid a pandemic THINK: Opinion, analysis, essays Opinion How Georgia's new 'Jim Crow' voter suppression law could backfire for Republicans Opinion Want to understand how discriminatory gaslighting works? Look to Meghan and Harry Opinion HBO's 'Tina' is Tina Turner's way of telling us thank you — and goodbye See More Top Stories Latest news John Moore / Getty Images White House With no specifics, White House says it's working on access to migrant centers Border Patrol on pace to have most monthly encounters with border crossers in more than a decade Getty Images / Getty Images World U.S. 'horrified' after Myanmar's bloodiest day since military coup Biden responds to growing violence in Myanmar: 'It's terrible. It's absolutely outrageous' Megan Varner / Getty Images Congress 'An inflection point': Congress prepares for battle over massive voting rights bill Calls for economic boycott grow after Georgia adopts voter restrictions 'Outrageous': Biden condemns new Georgia law as a 'blatant attack' on voting rights Coronavirus Alex Brandon / AP file Coronavirus Birx recalls 'difficult' call with Trump, says thousands of Covid deaths were preventable ALBERT GEA / Reuters World 'We felt safe at all times': 5,000 fans pack Barcelona rock concert after Covid tests Go Nakamura / Bloomberg via Getty Images file Coronavirus Governments delay access to public records during pandemic Coronavirus Covid rocked the economy. In the process, the middle class is disappearing. Coronavirus Comic-Con announces in-person Thanksgiving convention Coronavirus Covid rocked the economy. In the process, the middle class is disappearing. Coronavirus Comic-Con announces in-person Thanksgiving convention Top videos immigration Anguished mother of 9-year-old who died crossing Rio Grande: ‘She was everything to me’ business What’s behind the backup in new furniture and appliance orders world Scores of protesters shot, killed by Myanmar security forces TODAY Stray dog finds fur-ever home with stuffed unicorn toy Editors' picks Coronavirus Covid has meant quieter oceans, healthier whales — and unhappy hunters Sports 'Fired up,' 'ready to go': Baseball is almost back. This season will differ from the last. National Security China's growing firepower casts doubt on whether U.S. could defend Taiwan OUT News 'A place of gay history': Destination bar for nearly 160 years threatened by pandemic Most read Culture Matters Nike denies involvement with Lil Nas X 'Satan Shoes' containing human blood Coronavirus Birx recalls 'difficult' call with Trump, says thousands of Covid deaths were preventable Tech News Restaurants are 'up against a wall,' using DoorDash to survive. The commissions are brutal. Politics News 12 red states have refused Medicaid expansion. Biden's funding offer may turn the tide. Plan Your Vaccine Everything you need to know about getting a Covid-19 vaccination NBC News has designed a tool that tells you everything you need to know about getting a Covid-19 shot, based on your unique situation. Plan your own vaccine — or help a loved one. How to navigate PlanYourVaccine.com Politics Suzanne Gamboa Congress Democrats, Republicans hold dueling border trips. Their takeaways couldn't be more different. Chip Somodevilla / Getty Images Elections 'Outrageous': Biden condemns new Georgia law as a 'blatant attack' on voting rights Eva Marie Uzcategui / Bloomberg via Getty Images file White House Vaccine data suggests Biden equity goal remains elusive Politics News Cuomo impeachment probe to examine Covid tests for relatives criminal justice Baltimore will no longer prosecute drug possession, prostitution, low-level crimes Politics News Cuomo impeachment probe to examine Covid tests for relatives criminal justice Baltimore will no longer prosecute drug possession, prostitution, low-level crimes World Kevin Frayer / Getty Images file World In China, three-quarters of divorces are filed by women. A new law intervenes. Ahmad Gharabli / AFP - Getty Images World As election deadlock persists, unlikely kingmakers emerge in Israel: A small Arab party Yusuf Wahil / AP World Suicide bomber targets Palm Sunday Mass at Indonesian cathedral World U.S. 'horrified' after Myanmar's bloodiest day since military coup World North Korea fired two ballistic missiles last week. It wasn't just a test, experts say. World U.S. 'horrified' after Myanmar's bloodiest day since military coup World North Korea fired two ballistic missiles last week. It wasn't just a test, experts say. Business, Tech & Media Alex Wroblewski                                 / for NBC News Tech News He went to prison in the '80s. Now that he's free, smartphones and browsers present new struggles. David Paul Morris / Bloomberg via Getty Images Tech News Restaurants are 'up against a wall,' using DoorDash to survive. The commissions are brutal. Nightly News What’s behind the backup in new furniture and appliance orders Security Fox News hit with $1.6 billion lawsuit over election fraud claims Autos Delay on Suez Canal could cripple already struggling auto industry Security Fox News hit with $1.6 billion lawsuit over election fraud claims Autos Delay on Suez Canal could cripple already struggling auto industry NBC OUT Culture Matters Nike denies involvement with Lil Nas X 'Satan Shoes' containing human blood OUT News 'A place of gay history': Destination bar for nearly 160 years struggles to survive OUT Pop Culture Lil Nas X writes a letter to his younger self about coming out OUT News Arkansas governor signs transgender sports ban into law Read More NBCBLK NBCBLK George Floyd family members, leaders hold prayer service on eve of trial U.S. news Former Ohio police officer shot Andre Hill four times, coroner says Latino How multigenerational vaccine eligibility could alter Covid's course for people of color NBCBLK Evanston is the first U.S. city to issue slavery reparations. Experts say it's a noble start. Read More Asian America Asian America Asian American official shows his military scars during meeting, asks 'Is this patriot enough?' Latino How multigenerational vaccine eligibility could alter Covid's course for people of color Asian America Politicians, businesses, advocates speak out in virtual #StopAsianHate day Asian America All 23 Democratic governors sign letter condemning anti-Asian hate, violence Read More Latino Latino How multigenerational vaccine eligibility could alter Covid's course for people of color Latino A simple truth behind a complex problem: Why U.S. immigration is broken Latino Puerto Rico cleanup by U.S. military will take more than a decade NBC News NOW Meet three Latina scientists leading the way in Washington’s Covid-19 research Read More Shopping guides about women, for women and by women See more Courtesy HigherDOSE; Courtesy of Hero Cosmetics 126 brands to consider this Women's History Month Amazon Best biographies about women in history Courtesy Kala Herh ;  Olay Why Olay Regenerist is a staple across generations Slip Staff pick: Slip's sleep mask Tiff B. Photography Expert shopping: Adaptive clothing Stephanie Mansour / NBC Expert pick: Why AirPods are worth the price Jade Yoga; NBC News A dedicated yogi on her favorite yoga mat Getty Images Expert shopping: Size-inclusive sports bras Dyson Staff pick: Dyson Corrale hair straightener Facebook How Facebook's Portal helps my family cope Billie; NBC News Billie's Floof is the only dry shampoo that works on my dark hair Science Historic St. Mary’s City Science News Archaeologists unearth remains of 387-year-old colonial fort in Maryland Melanie Moeris / Reuters Science News 'Worst mice plague I've ever seen': Millions of rodents descend on eastern Australia Micah Green / Bloomberg via Getty Images Science News Pfizer launches trial to test Covid vaccine in children as young as 6 months Hannah Beier / Reuters Coronavirus Pregnant women who get Covid vaccine may pass immunity to newborn, study finds Climate in Crisis In reversal, oil and gas lobby embraces climate-focused price on carbon Environment Bald eagle populations soar in lower 48 states, research finds Science News Maya ruins in Belize offer peek at ancient wealth inequality BETTER Courtesy Heidi Olson Jones Diet & Fitness Woman, 54, buys her first swimsuit ever after losing 115 pounds TODAY Illustration / Stephanie Mansour Diet & Fitness The right way to do a downward dog so that it doesn’t strain your back Katty Huertas / TODAY / Getty Images / Shutterstock Health & Wellness How to politely ask loved ones about COVID-19 vaccination status Eat Better TODAY Forget takeout. Joy Bauer shares 2 better-for-you pizza recipes Health This virtual reality boxing workout is my go-to on days I don’t want to exercise Eat Better TODAY Forget takeout. Joy Bauer shares 2 better-for-you pizza recipes Health This virtual reality boxing workout is my go-to on days I don’t want to exercise unknown Local news around you We apologize, we were unable to find your local news.  Please try another location. See local affiliates About Contact Careers Privacy policy Do Not Sell My Personal Information CA Notice Terms of Service NBCNews.COM Site Map Advertise Ad Choices © 2021 NBC UNIVERSAL\n"
     ]
    }
   ],
   "source": [
    "i=1\n",
    "for url in top_news_url:\n",
    "    #creating a new file to write the extracted text\n",
    "    file = open(r\"C:\\Users\\LEKSHMI HARITHA\\Desktop\"+str(i)+\".txt\",'w+',encoding=\"utf-8\")\n",
    "    html = urllib.request.urlopen(url).read()\n",
    "    print(text_from_html(html))\n",
    "    \n",
    "    #writing text to the file\n",
    "    file.write(text_from_html(html))\n",
    "    file.close() \n",
    "    i+=1"
   ]
  },
  {
   "cell_type": "markdown",
   "metadata": {},
   "source": [
    "## PREPOCESSING"
   ]
  },
  {
   "cell_type": "code",
   "execution_count": 8,
   "metadata": {},
   "outputs": [
    {
     "ename": "FileNotFoundError",
     "evalue": "[Errno 2] No such file or directory: 'C:\\\\Users\\\\LEKSHMI HARITHA\\\\Desktop\\\\doc1.txt'",
     "output_type": "error",
     "traceback": [
      "\u001b[1;31m---------------------------------------------------------------------------\u001b[0m",
      "\u001b[1;31mFileNotFoundError\u001b[0m                         Traceback (most recent call last)",
      "\u001b[1;32m<ipython-input-8-674b1728d87b>\u001b[0m in \u001b[0;36m<module>\u001b[1;34m\u001b[0m\n\u001b[1;32m----> 1\u001b[1;33m \u001b[0mf1\u001b[0m \u001b[1;33m=\u001b[0m \u001b[0mopen\u001b[0m\u001b[1;33m(\u001b[0m\u001b[1;34mr\"C:\\Users\\LEKSHMI HARITHA\\Desktop\\doc1.txt\"\u001b[0m\u001b[1;33m,\u001b[0m\u001b[1;34m'r'\u001b[0m\u001b[1;33m,\u001b[0m\u001b[0mencoding\u001b[0m\u001b[1;33m=\u001b[0m\u001b[1;34m\"utf-8\"\u001b[0m\u001b[1;33m)\u001b[0m\u001b[1;33m\u001b[0m\u001b[1;33m\u001b[0m\u001b[0m\n\u001b[0m",
      "\u001b[1;31mFileNotFoundError\u001b[0m: [Errno 2] No such file or directory: 'C:\\\\Users\\\\LEKSHMI HARITHA\\\\Desktop\\\\doc1.txt'"
     ]
    }
   ],
   "source": [
    "f1 = open(r\"C:\\Users\\LEKSHMI HARITHA\\Desktop\\doc1.txt\",'r',encoding=\"utf-8\")"
   ]
  },
  {
   "cell_type": "code",
   "execution_count": 9,
   "metadata": {},
   "outputs": [
    {
     "ename": "FileNotFoundError",
     "evalue": "[Errno 2] No such file or directory: 'C:\\\\Users\\\\LEKSHMI HARITHA\\\\Desktop\\\\doc1.txt'",
     "output_type": "error",
     "traceback": [
      "\u001b[1;31m---------------------------------------------------------------------------\u001b[0m",
      "\u001b[1;31mFileNotFoundError\u001b[0m                         Traceback (most recent call last)",
      "\u001b[1;32m<ipython-input-9-685119465916>\u001b[0m in \u001b[0;36m<module>\u001b[1;34m\u001b[0m\n\u001b[1;32m----> 1\u001b[1;33m \u001b[0mf1\u001b[0m \u001b[1;33m=\u001b[0m \u001b[0mopen\u001b[0m\u001b[1;33m(\u001b[0m\u001b[1;34mr\"C:\\Users\\LEKSHMI HARITHA\\Desktop\\doc1.txt\"\u001b[0m\u001b[1;33m,\u001b[0m\u001b[1;34m'r'\u001b[0m\u001b[1;33m,\u001b[0m\u001b[0mencoding\u001b[0m\u001b[1;33m=\u001b[0m\u001b[1;34m\"utf-8\"\u001b[0m\u001b[1;33m)\u001b[0m\u001b[1;33m\u001b[0m\u001b[1;33m\u001b[0m\u001b[0m\n\u001b[0m\u001b[0;32m      2\u001b[0m \u001b[0mf2\u001b[0m \u001b[1;33m=\u001b[0m \u001b[0mopen\u001b[0m\u001b[1;33m(\u001b[0m\u001b[1;34mr\"C:\\Users\\LEKSHMI HARITHA\\Desktop\\doc2.txt\"\u001b[0m\u001b[1;33m,\u001b[0m\u001b[1;34m'r'\u001b[0m\u001b[1;33m,\u001b[0m\u001b[0mencoding\u001b[0m\u001b[1;33m=\u001b[0m\u001b[1;34m\"utf-8\"\u001b[0m\u001b[1;33m)\u001b[0m\u001b[1;33m\u001b[0m\u001b[1;33m\u001b[0m\u001b[0m\n\u001b[0;32m      3\u001b[0m \u001b[0mf3\u001b[0m \u001b[1;33m=\u001b[0m \u001b[0mopen\u001b[0m\u001b[1;33m(\u001b[0m\u001b[1;34mr\"C:\\Users\\LEKSHMI HARITHA\\Desktop\\doc3.txt\"\u001b[0m\u001b[1;33m,\u001b[0m\u001b[1;34m'r'\u001b[0m\u001b[1;33m,\u001b[0m\u001b[0mencoding\u001b[0m\u001b[1;33m=\u001b[0m\u001b[1;34m\"utf-8\"\u001b[0m\u001b[1;33m)\u001b[0m\u001b[1;33m\u001b[0m\u001b[1;33m\u001b[0m\u001b[0m\n\u001b[0;32m      4\u001b[0m \u001b[0mf4\u001b[0m \u001b[1;33m=\u001b[0m \u001b[0mopen\u001b[0m\u001b[1;33m(\u001b[0m\u001b[1;34mr\"C:\\Users\\LEKSHMI HARITHA\\Desktop\\doc4.txt\"\u001b[0m\u001b[1;33m,\u001b[0m\u001b[1;34m'r'\u001b[0m\u001b[1;33m,\u001b[0m\u001b[0mencoding\u001b[0m\u001b[1;33m=\u001b[0m\u001b[1;34m\"utf-8\"\u001b[0m\u001b[1;33m)\u001b[0m\u001b[1;33m\u001b[0m\u001b[1;33m\u001b[0m\u001b[0m\n\u001b[0;32m      5\u001b[0m \u001b[0mf5\u001b[0m \u001b[1;33m=\u001b[0m \u001b[0mopen\u001b[0m\u001b[1;33m(\u001b[0m\u001b[1;34mr\"C:\\Users\\LEKSHMI HARITHA\\Desktop\\doc5.txt\"\u001b[0m\u001b[1;33m,\u001b[0m\u001b[1;34m'r'\u001b[0m\u001b[1;33m,\u001b[0m\u001b[0mencoding\u001b[0m\u001b[1;33m=\u001b[0m\u001b[1;34m\"utf-8\"\u001b[0m\u001b[1;33m)\u001b[0m\u001b[1;33m\u001b[0m\u001b[1;33m\u001b[0m\u001b[0m\n",
      "\u001b[1;31mFileNotFoundError\u001b[0m: [Errno 2] No such file or directory: 'C:\\\\Users\\\\LEKSHMI HARITHA\\\\Desktop\\\\doc1.txt'"
     ]
    }
   ],
   "source": [
    "f1 = open(r\"C:\\Users\\\\Desktop\\doc1.txt\",'r',encoding=\"utf-8\")\n",
    "f2 = open(r\"C:\\Users\\LEKSHMI HARITHA\\Desktop\\doc2.txt\",'r',encoding=\"utf-8\")\n",
    "f3 = open(r\"C:\\Users\\LEKSHMI HARITHA\\Desktop\\doc3.txt\",'r',encoding=\"utf-8\")\n",
    "f4 = open(r\"C:\\Users\\LEKSHMI HARITHA\\Desktop\\doc4.txt\",'r',encoding=\"utf-8\")\n",
    "f5 = open(r\"C:\\Users\\LEKSHMI HARITHA\\Desktop\\doc5.txt\",'r',encoding=\"utf-8\")"
   ]
  },
  {
   "cell_type": "code",
   "execution_count": null,
   "metadata": {},
   "outputs": [],
   "source": [
    "d1 = f1.readlines()\n",
    "d2 = f2.readlines()\n",
    "d3 = f3.readlines()\n",
    "d4 = f4.readlines()\n",
    "d5 = f5.readlines()\n",
    "f1.close(), f2.close(), f3.close(), f4.close(), f5.close()"
   ]
  },
  {
   "cell_type": "code",
   "execution_count": null,
   "metadata": {},
   "outputs": [],
   "source": [
    "d1 "
   ]
  },
  {
   "cell_type": "code",
   "execution_count": null,
   "metadata": {},
   "outputs": [],
   "source": [
    "#import contractions\n",
    "import nltk \n",
    "import re\n",
    "from nltk.corpus import stopwords\n",
    "from nltk.stem.porter import PorterStemmer\n",
    "from nltk.stem import WordNetLemmatizer\n",
    "\n",
    "import sys, math, re\n",
    "from operator import itemgetter\n",
    "import math"
   ]
  },
  {
   "cell_type": "code",
   "execution_count": null,
   "metadata": {},
   "outputs": [],
   "source": [
    "def contraction_fix(doc):\n",
    "  for i in range(len(doc)):\n",
    "    doc[i]=contractions.fix(doc[i])\n",
    "  return doc"
   ]
  },
  {
   "cell_type": "code",
   "execution_count": null,
   "metadata": {},
   "outputs": [],
   "source": [
    "def remove_punctuation(doc):\n",
    "    punct=r\"[]/%|(-,:;‘’'@#?!&$)[\\\"-]+\"    \n",
    "    digits=\"[0-9]\"                           #regex for punctuations,hyphen .etc     \n",
    "    #html_scripts=\"(<br\\s*/><br\\s*/>)|(\\-)|(\\/)\"       #regex for html scripts\n",
    "    clean_doc=[]\n",
    "    \n",
    "    for word in doc:\n",
    "        word = re.compile(punct).sub(\" \",word)\n",
    "        #print(word)#removing punctuations   \n",
    "        word = re.compile(digits).sub(\" \",word)  \n",
    "        word=word.lower()\n",
    "        clean_doc.append(' '.join([word]))\n",
    "        \n",
    "    return clean_doc"
   ]
  },
  {
   "cell_type": "code",
   "execution_count": null,
   "metadata": {},
   "outputs": [],
   "source": [
    "nltk.download('stopwords')"
   ]
  },
  {
   "cell_type": "code",
   "execution_count": null,
   "metadata": {},
   "outputs": [],
   "source": [
    "stop_words=stopwords.words('english')\n",
    "def remove_stopwords(doc):\n",
    "  clean_doc=[]\n",
    "  for words in doc:\n",
    "    clean_doc.append(' '.join([word for word in words.split() if word not in stop_words]))\n",
    "  return clean_doc"
   ]
  },
  {
   "cell_type": "code",
   "execution_count": null,
   "metadata": {},
   "outputs": [],
   "source": [
    "def doc_stemming(doc):\n",
    "  stemmer=PorterStemmer()\n",
    "  stem_doc=[]\n",
    "  for i in range(len(doc)):\n",
    "    stem_doc.append(' '.join([stemmer.stem(word) for word in doc[i].split()]))\n",
    "  return stem_doc"
   ]
  },
  {
   "cell_type": "code",
   "execution_count": null,
   "metadata": {},
   "outputs": [],
   "source": [
    "from nltk.stem import WordNetLemmatizer\n",
    "def doc_lemmatize(doc):\n",
    "  lemmatizer = WordNetLemmatizer()\n",
    "  lemm_doc=[]\n",
    "  for words in doc:\n",
    "    lemm_doc.append(' '.join([lemmatizer.lemmatize(word) for word in words.split()]))\n",
    "  return lemm_doc"
   ]
  },
  {
   "cell_type": "code",
   "execution_count": null,
   "metadata": {},
   "outputs": [],
   "source": [
    "def preprocess(doc):\n",
    "    doc = remove_punctuation(doc)\n",
    "    doc = remove_stopwords(doc)\n",
    "    return doc"
   ]
  },
  {
   "cell_type": "code",
   "execution_count": null,
   "metadata": {},
   "outputs": [],
   "source": [
    "# preprocessing 5 doc/files\n",
    "d1 = preprocess(d1)\n",
    "d2 = preprocess(d2)\n",
    "d3 = preprocess(d3)\n",
    "d4 = preprocess(d4)\n",
    "d5 = preprocess(d5)"
   ]
  },
  {
   "cell_type": "code",
   "execution_count": null,
   "metadata": {},
   "outputs": [],
   "source": [
    "docs = [d1[0],d2[0],d3[0],d4[0],d5[0]]"
   ]
  },
  {
   "cell_type": "code",
   "execution_count": null,
   "metadata": {},
   "outputs": [],
   "source": [
    "type(docs[0])"
   ]
  },
  {
   "cell_type": "code",
   "execution_count": null,
   "metadata": {},
   "outputs": [],
   "source": [
    "#tokenizing each docs\n",
    "from nltk.tokenize import RegexpTokenizer\n",
    "tokenizer = RegexpTokenizer(\"[\\w']+\")\n",
    "for i in range(5):\n",
    "    docs[i] = tokenizer.tokenize(docs[i])"
   ]
  },
  {
   "cell_type": "code",
   "execution_count": null,
   "metadata": {},
   "outputs": [],
   "source": [
    "len(docs[0]), len(docs[1]), len(docs[2]), len(docs[3]), len(docs[4]) #words are above 100"
   ]
  },
  {
   "cell_type": "code",
   "execution_count": null,
   "metadata": {},
   "outputs": [],
   "source": [
    "TF-IDF"
   ]
  },
  {
   "cell_type": "code",
   "execution_count": null,
   "metadata": {},
   "outputs": [],
   "source": [
    "# Defining functions for TF-IDF \n",
    "import sys, math, re\n",
    "from operator import itemgetter\n",
    "import math"
   ]
  },
  {
   "cell_type": "code",
   "execution_count": null,
   "metadata": {},
   "outputs": [],
   "source": [
    "##Defining Functions for Term Frequency"
   ]
  },
  {
   "cell_type": "code",
   "execution_count": null,
   "metadata": {},
   "outputs": [],
   "source": [
    "#creating a vocabulary of all unique words with their counts as a dictionary\n",
    "\n",
    "def vocab(docs): # similar to Counting Frequency \n",
    "    dict={}\n",
    "    for word in docs:\n",
    "        if word not in dict:\n",
    "            dict[word]=1\n",
    "        else:\n",
    "            dict[word]+=1\n",
    "    return dict"
   ]
  },
  {
   "cell_type": "code",
   "execution_count": null,
   "metadata": {},
   "outputs": [],
   "source": [
    "# creating a vocabulary for 5 docs\n",
    "vocab1 = vocab(docs[0])\n",
    "vocab2 = vocab(docs[1])\n",
    "vocab3 = vocab(docs[2])\n",
    "vocab4 = vocab(docs[3])\n",
    "vocab5 = vocab(docs[4])"
   ]
  },
  {
   "cell_type": "code",
   "execution_count": null,
   "metadata": {},
   "outputs": [],
   "source": [
    "vocab1"
   ]
  },
  {
   "cell_type": "code",
   "execution_count": null,
   "metadata": {},
   "outputs": [],
   "source": [
    "def termFreq(term,vocab): #vocabulary corresponding to the doc\n",
    "    try:\n",
    "        return vocab[term]/len(vocab)\n",
    "    except KeyError:\n",
    "        return 0"
   ]
  },
  {
   "cell_type": "code",
   "execution_count": null,
   "metadata": {},
   "outputs": [],
   "source": [
    "termFreq('politics',vocab1)"
   ]
  },
  {
   "cell_type": "code",
   "execution_count": null,
   "metadata": {},
   "outputs": [],
   "source": [
    "len(vocab1)"
   ]
  },
  {
   "cell_type": "code",
   "execution_count": null,
   "metadata": {},
   "outputs": [],
   "source": [
    "termFreq('politics',vocab2)"
   ]
  },
  {
   "cell_type": "code",
   "execution_count": null,
   "metadata": {},
   "outputs": [],
   "source": [
    "termFreq('politics',vocab3)"
   ]
  },
  {
   "cell_type": "code",
   "execution_count": null,
   "metadata": {},
   "outputs": [],
   "source": [
    "termFreq('politics',vocab4)"
   ]
  },
  {
   "cell_type": "code",
   "execution_count": null,
   "metadata": {},
   "outputs": [],
   "source": [
    "vocab = [vocab1, vocab2, vocab3, vocab4, vocab5]"
   ]
  },
  {
   "cell_type": "code",
   "execution_count": null,
   "metadata": {},
   "outputs": [],
   "source": [
    "## Defining Functions for Inverse Document Frequency"
   ]
  },
  {
   "cell_type": "code",
   "execution_count": null,
   "metadata": {},
   "outputs": [],
   "source": [
    "# Function for calculating no of docs containing the term\n",
    "\n",
    "def term_in_DocFreq(term, docs):\n",
    "    c=0\n",
    "    for doc in docs:\n",
    "        if term in doc:\n",
    "            c+=1\n",
    "    return c"
   ]
  },
  {
   "cell_type": "code",
   "execution_count": null,
   "metadata": {},
   "outputs": [],
   "source": [
    "term_in_DocFreq('politics', docs) #this is correct as doc3 doesn't contain the term politics"
   ]
  },
  {
   "cell_type": "code",
   "execution_count": null,
   "metadata": {},
   "outputs": [],
   "source": [
    "#defining function for Inverse Documnent Freq\n",
    "\n",
    "def idf(term, docs): \n",
    "    N = 5  # total 5 docs are present  \n",
    "    df = term_in_DocFreq(term, docs)   #no of docs containing the term\n",
    "    return math.log(N/(df))"
   ]
  },
  {
   "cell_type": "code",
   "execution_count": null,
   "metadata": {},
   "outputs": [],
   "source": [
    "idf('politics',docs)"
   ]
  },
  {
   "cell_type": "code",
   "execution_count": null,
   "metadata": {},
   "outputs": [],
   "source": [
    "def tf_idf(term, doc, vocab, docs):\n",
    "    return termFreq(term, vocab)* idf(term, docs)"
   ]
  },
  {
   "cell_type": "code",
   "execution_count": null,
   "metadata": {},
   "outputs": [],
   "source": [
    "tf_idf('politics',docs[0], vocab[0], docs)"
   ]
  },
  {
   "cell_type": "code",
   "execution_count": null,
   "metadata": {},
   "outputs": [],
   "source": [
    "#now output all the tf-idf values for all terms in the 5 documents\n",
    "\n",
    "for i in range(len(docs)):\n",
    "    for word in docs[i]:\n",
    "        print(word, tf_idf(word,docs[i], vocab[i], docs))"
   ]
  },
  {
   "cell_type": "code",
   "execution_count": null,
   "metadata": {},
   "outputs": [],
   "source": []
  }
 ],
 "metadata": {
  "kernelspec": {
   "display_name": "Python 3",
   "language": "python",
   "name": "python3"
  },
  "language_info": {
   "codemirror_mode": {
    "name": "ipython",
    "version": 3
   },
   "file_extension": ".py",
   "mimetype": "text/x-python",
   "name": "python",
   "nbconvert_exporter": "python",
   "pygments_lexer": "ipython3",
   "version": "3.8.5"
  }
 },
 "nbformat": 4,
 "nbformat_minor": 4
}
